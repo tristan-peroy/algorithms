{
 "cells": [
  {
   "cell_type": "code",
   "execution_count": 2,
   "metadata": {},
   "outputs": [
    {
     "name": "stdout",
     "output_type": "stream",
     "text": [
      "Pass\n"
     ]
    }
   ],
   "source": [
    "def rearrange_digits(input_list):\n",
    "    \"\"\"\n",
    "    Rearrange Array Elements so as to form two number such that their sum is maximum.\n",
    "\n",
    "    Args:\n",
    "       input_list(list): Input List\n",
    "    Returns:\n",
    "       (int),(int): Two maximum sums\n",
    "    \"\"\"\n",
    "    ln = len(input_list)\n",
    "    if ln <= 1:\n",
    "        return [-1, -1]\n",
    "    input_freq = [0] * 10\n",
    "    for num in input_list:\n",
    "        input_freq[num] += 1\n",
    "\n",
    "    array_one, array_two = [], []\n",
    "    first = 1\n",
    "    if ln % 2 != 0:\n",
    "        first = 2\n",
    "    for i in range(9, -1, -1):\n",
    "        while input_freq[i]:\n",
    "            if first:\n",
    "                array_one.append(str(i))\n",
    "                first -= 1\n",
    "            else:\n",
    "                first += 1\n",
    "                array_two.append(str(i))\n",
    "            input_freq[i] -= 1\n",
    "    return [int(''.join(array_one)), int(''.join(array_two))]\n",
    "\n",
    "    pass\n",
    "\n",
    "def test_function(test_case):\n",
    "    output = rearrange_digits(test_case[0])\n",
    "    solution = test_case[1]\n",
    "    if sum(output) == sum(solution):\n",
    "        print(\"Pass\")\n",
    "    else:\n",
    "        print(\"Fail\")\n",
    "\n",
    "test_function([[1, 2, 3, 4, 5], [542, 31]])\n",
    "test_case = [[4, 6, 2, 5, 9, 8], [964, 852]]\n",
    "\n"
   ]
  },
  {
   "cell_type": "code",
   "execution_count": null,
   "metadata": {},
   "outputs": [],
   "source": []
  }
 ],
 "metadata": {
  "kernelspec": {
   "display_name": "Python 3",
   "language": "python",
   "name": "python3"
  },
  "language_info": {
   "codemirror_mode": {
    "name": "ipython",
    "version": 3
   },
   "file_extension": ".py",
   "mimetype": "text/x-python",
   "name": "python",
   "nbconvert_exporter": "python",
   "pygments_lexer": "ipython3",
   "version": "3.8.5"
  }
 },
 "nbformat": 4,
 "nbformat_minor": 4
}
