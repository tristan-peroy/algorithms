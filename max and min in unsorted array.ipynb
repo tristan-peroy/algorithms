{
 "cells": [
  {
   "cell_type": "code",
   "execution_count": 1,
   "metadata": {},
   "outputs": [
    {
     "name": "stdout",
     "output_type": "stream",
     "text": [
      "Pass\n"
     ]
    }
   ],
   "source": [
    "def get_min_max(ints):\n",
    "    \"\"\"\n",
    "    Return a tuple(min, max) out of list of unsorted integers.\n",
    "\n",
    "    Args:\n",
    "       ints(list): list of integers containing one or more integers\n",
    "    \"\"\"\n",
    "    mini=ints[0]\n",
    "    maxi=ints[0]\n",
    "    for i in ints:\n",
    "        if i>maxi:\n",
    "            maxi=i\n",
    "        if i<mini:\n",
    "            mini=i\n",
    "    return (mini,maxi)\n",
    "    pass\n",
    "\n",
    "## Example Test Case of Ten Integers\n",
    "import random\n",
    "\n",
    "l = [i for i in range(0, 10)]  # a list containing 0 - 9\n",
    "random.shuffle(l)\n",
    "\n",
    "print (\"Pass\" if ((0, 9) == get_min_max(l)) else \"Fail\")"
   ]
  },
  {
   "cell_type": "code",
   "execution_count": null,
   "metadata": {},
   "outputs": [],
   "source": []
  }
 ],
 "metadata": {
  "kernelspec": {
   "display_name": "Python 3",
   "language": "python",
   "name": "python3"
  },
  "language_info": {
   "codemirror_mode": {
    "name": "ipython",
    "version": 3
   },
   "file_extension": ".py",
   "mimetype": "text/x-python",
   "name": "python",
   "nbconvert_exporter": "python",
   "pygments_lexer": "ipython3",
   "version": "3.8.5"
  }
 },
 "nbformat": 4,
 "nbformat_minor": 4
}
