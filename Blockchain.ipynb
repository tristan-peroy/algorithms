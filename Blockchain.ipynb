{
 "cells": [
  {
   "cell_type": "code",
   "execution_count": 2,
   "metadata": {},
   "outputs": [],
   "source": []
  },
  {
   "cell_type": "code",
   "execution_count": 7,
   "metadata": {},
   "outputs": [],
   "source": [
    "class Block:\n",
    "\n",
    "    def __init__(self, timestamp, data, previous_hash):\n",
    "        self.timestamp = timestamp\n",
    "        self.data = data\n",
    "        self.previous_hash = previous_hash\n",
    "        self.hash = self.calc_hash()\n",
    "    import hashlib\n",
    "\n",
    "    def calc_hash(self):\n",
    "        sha = hashlib.sha256()\n",
    "\n",
    "        hash_str = \"We are going to encode this string of data!\".encode('utf-8')\n",
    "\n",
    "        sha.update(hash_str)\n",
    "\n",
    "        return sha.hexdigest()"
   ]
  },
  {
   "cell_type": "code",
   "execution_count": 8,
   "metadata": {},
   "outputs": [],
   "source": [
    "class LinkedList:\n",
    "    def __init__(self):\n",
    "        self.head = None\n",
    "        self.last = None\n",
    "\n",
    "    def append(self, timestamp, data):\n",
    "        if not self.head:\n",
    "            self.head = Block(timestamp, data, 0)\n",
    "            self.last = self.head\n",
    "        else:\n",
    "            data = self.last\n",
    "            self.last = Block(timestamp, data, data)\n",
    "            self.last.previous_hash = data"
   ]
  },
  {
   "cell_type": "code",
   "execution_count": 10,
   "metadata": {},
   "outputs": [
    {
     "name": "stdout",
     "output_type": "stream",
     "text": [
      "Block Zero data :  Information X\n",
      "Block Zero hash :  a20200a94c75010576e2d6a83e6fa69271901a9d805894b28bd91e6054fbfd10\n",
      "Block Zero timestamp :  16/08/2021 12:07:43\n",
      "Block one's previous block's data :  Information X\n",
      "Linked list last data :  <__main__.Block object at 0x0000015D51BCFC70>\n",
      "Linked list last's previous hash data :  Information A\n"
     ]
    }
   ],
   "source": [
    "import datetime\n",
    "def get_timestamp():\n",
    "    return datetime.datetime.utcnow().strftime(\"%d/%m/%Y %H:%M:%S\")\n",
    "block0 = Block(get_timestamp(), \"Information X\", 0)\n",
    "block1 = Block(get_timestamp(), \"Information Y\", block0)\n",
    "block2 = Block(get_timestamp(), \"Information Z\", block1)\n",
    "linked_list = LinkedList()\n",
    "linked_list.append(get_timestamp(), \"Information A\")\n",
    "linked_list.append(get_timestamp(), \"Information B\")\n",
    "#print(\"Block Zero data : \", block0.data)\n",
    "#print(\"Block Zero hash : \", block0.hash)\n",
    "#print(\"Block Zero timestamp : \", block0.timestamp)\n",
    "#print(\"Block one's previous block's data : \", block1.previous_hash.data)\n",
    "#print(\"Linked list last data : \", linked_list.last.data)\n",
    "#print(\"Linked list last's previous hash data : \", linked_list.last.previous_hash.data)"
   ]
  },
  {
   "cell_type": "code",
   "execution_count": null,
   "metadata": {},
   "outputs": [],
   "source": []
  }
 ],
 "metadata": {
  "kernelspec": {
   "display_name": "Python 3",
   "language": "python",
   "name": "python3"
  },
  "language_info": {
   "codemirror_mode": {
    "name": "ipython",
    "version": 3
   },
   "file_extension": ".py",
   "mimetype": "text/x-python",
   "name": "python",
   "nbconvert_exporter": "python",
   "pygments_lexer": "ipython3",
   "version": "3.8.5"
  }
 },
 "nbformat": 4,
 "nbformat_minor": 4
}
