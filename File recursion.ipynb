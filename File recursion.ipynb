{
 "cells": [
  {
   "cell_type": "code",
   "execution_count": 3,
   "metadata": {},
   "outputs": [
    {
     "name": "stdout",
     "output_type": "stream",
     "text": [
      "['.atom', '.conda', '.condarc', '.ipynb_checkpoints', '.ipython', '.jupyter', '.matplotlib', '3D Objects', 'AB Digitale Medien.pdf', 'algorithms.ipynb', 'anaconda3', 'AppData', 'Application Data', 'Contacts', 'Cookies', 'DaF_kompakt_neu_A1_A2_B1_Grammar_English.pdf', 'Documents', 'Downloads', 'Ehrenamt.pdf', 'Favorites', 'File recursion.ipynb', 'GE03. BB Statistik.pdf', 'Income classification.ipynb', 'IntelGraphicsProfiles', 'investment management 2.ipynb', 'investment management 3.ipynb', 'investment management 4.ipynb', 'investment management 5.ipynb', 'investment management.ipynb', 'Links', 'Local Settings', 'LRU Cache 2.ipynb', 'LRU cache.ipynb', 'MicrosoftEdgeBackups', 'Music', 'My Documents', 'NetHood', 'NTUSER.DAT', 'ntuser.dat.LOG1', 'ntuser.dat.LOG2', 'NTUSER.DAT{53b39e87-18c4-11ea-a811-000d3aa4692b}.TxR.0.regtrans-ms', 'NTUSER.DAT{53b39e87-18c4-11ea-a811-000d3aa4692b}.TxR.1.regtrans-ms', 'NTUSER.DAT{53b39e87-18c4-11ea-a811-000d3aa4692b}.TxR.2.regtrans-ms', 'NTUSER.DAT{53b39e87-18c4-11ea-a811-000d3aa4692b}.TxR.blf', 'NTUSER.DAT{53b39e88-18c4-11ea-a811-000d3aa4692b}.TM.blf', 'NTUSER.DAT{53b39e88-18c4-11ea-a811-000d3aa4692b}.TMContainer00000000000000000001.regtrans-ms', 'NTUSER.DAT{53b39e88-18c4-11ea-a811-000d3aa4692b}.TMContainer00000000000000000002.regtrans-ms', 'ntuser.ini', 'OneDrive', 'Pictionary.png', 'PrintHood', 'Recent', 'Saved Games', 'Schreibtraining. Argumente verbinden.pdf', 'Screenshot 2021-04-07 at 16.32.58.png', 'Searches', 'SendTo', 'sklearn.ipynb', 'spring week 1.ipynb', 'Start Menu', 'Städte der Zukunft. AB.docx', 'Templates', 'term 2 week 7.ipynb', 'term2 week8.ipynb', 'Untitled.ipynb', 'Videos', 'week 4 term 2.ipynb']\n",
      "False\n",
      "True\n",
      "[]\n",
      "[]\n",
      "[]\n",
      "[]\n"
     ]
    }
   ],
   "source": [
    "import os\n",
    "\n",
    "# Let us print the files in the directory in which you are running this script\n",
    "print (os.listdir(\".\"))\n",
    "\n",
    "# Let us check if this file is indeed a file!\n",
    "print (os.path.isfile(\"./ex.py\"))\n",
    "\n",
    "# Does the file end with .py?\n",
    "print (\"./ex.py\".endswith(\".py\"))\n",
    "def find_files(suffix, path):\n",
    "    \"\"\"\n",
    "    Find all files beneath path with file name suffix.\n",
    "\n",
    "    Note that a path may contain further subdirectories\n",
    "    and those subdirectories may also contain further subdirectories.\n",
    "\n",
    "    There are no limit to the depth of the subdirectories can be.\n",
    "\n",
    "    Args:\n",
    "      suffix(str): suffix if the file name to be found\n",
    "      path(str): path of the file system\n",
    "\n",
    "    Returns:\n",
    "       a list of paths\n",
    "    \"\"\"\n",
    "    if os.path.exists(path):\n",
    "        output=[]\n",
    "        walk=[path]\n",
    "        while walk:\n",
    "            \n",
    "            folder = walk.pop(0) + \"/\"  # removing first element from walk list\n",
    "            items = os.listdir(folder)\n",
    "            for j in items:\n",
    "                j = folder + j\n",
    "                if os.path.isdir(j):\n",
    "                    walk.append(j)\n",
    "                elif str(j).endswith(suffix):\n",
    "                    output.append(j)\n",
    "                    \n",
    "        return output\n",
    "    else:\n",
    "        return []\n",
    "print(find_files('.c', 'testdir'))\n",
    "print(find_files('.h', 'testdir'))\n",
    "print(find_files('.c', ''))\n",
    "print(find_files('.c', 'testdir/subdir5'))"
   ]
  },
  {
   "cell_type": "code",
   "execution_count": null,
   "metadata": {},
   "outputs": [],
   "source": []
  }
 ],
 "metadata": {
  "kernelspec": {
   "display_name": "Python 3",
   "language": "python",
   "name": "python3"
  },
  "language_info": {
   "codemirror_mode": {
    "name": "ipython",
    "version": 3
   },
   "file_extension": ".py",
   "mimetype": "text/x-python",
   "name": "python",
   "nbconvert_exporter": "python",
   "pygments_lexer": "ipython3",
   "version": "3.8.5"
  }
 },
 "nbformat": 4,
 "nbformat_minor": 4
}
